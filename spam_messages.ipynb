{
 "cells": [
  {
   "cell_type": "markdown",
   "metadata": {},
   "source": [
    "# SPAM OR NOT SPAM?"
   ]
  },
  {
   "cell_type": "markdown",
   "metadata": {},
   "source": [
    "# 1. INTRODUCTION"
   ]
  },
  {
   "cell_type": "markdown",
   "metadata": {},
   "source": [
    "We receive a large number of emails every day, therefore a tool capable of classifying them in spam or not, becomes very important in order to not waste our time.\n",
    "\n",
    "**In this project we will use machine learning and text mining to predict if a message is spam or not**, based on some features of the message, as for example:\n",
    "\n",
    "* The characters that appear on it.\n",
    "* The length of the message.\n",
    "* The number of digits.\n",
    "* The number of non-word characters (anything other than a letter, digit or underscore)."
   ]
  },
  {
   "cell_type": "markdown",
   "metadata": {},
   "source": [
    "# 2. CLEANING THE DATA"
   ]
  },
  {
   "cell_type": "markdown",
   "metadata": {},
   "source": [
    "In this section, we are going to get the data and cleaning it for further manipulation.\n",
    "\n",
    "We get all the messages from a .csv file and we store them in a data frame (**spam_data**) with the columns *text* and *target*, where *target = 1* if the message is spam or *target = 0* if not."
   ]
  },
  {
   "cell_type": "code",
   "execution_count": 1,
   "metadata": {},
   "outputs": [
    {
     "data": {
      "text/html": [
       "<div>\n",
       "<style scoped>\n",
       "    .dataframe tbody tr th:only-of-type {\n",
       "        vertical-align: middle;\n",
       "    }\n",
       "\n",
       "    .dataframe tbody tr th {\n",
       "        vertical-align: top;\n",
       "    }\n",
       "\n",
       "    .dataframe thead th {\n",
       "        text-align: right;\n",
       "    }\n",
       "</style>\n",
       "<table border=\"1\" class=\"dataframe\">\n",
       "  <thead>\n",
       "    <tr style=\"text-align: right;\">\n",
       "      <th></th>\n",
       "      <th>text</th>\n",
       "      <th>target</th>\n",
       "    </tr>\n",
       "  </thead>\n",
       "  <tbody>\n",
       "    <tr>\n",
       "      <th>0</th>\n",
       "      <td>Go until jurong point, crazy.. Available only ...</td>\n",
       "      <td>0</td>\n",
       "    </tr>\n",
       "    <tr>\n",
       "      <th>1</th>\n",
       "      <td>Ok lar... Joking wif u oni...</td>\n",
       "      <td>0</td>\n",
       "    </tr>\n",
       "    <tr>\n",
       "      <th>2</th>\n",
       "      <td>Free entry in 2 a wkly comp to win FA Cup fina...</td>\n",
       "      <td>1</td>\n",
       "    </tr>\n",
       "    <tr>\n",
       "      <th>3</th>\n",
       "      <td>U dun say so early hor... U c already then say...</td>\n",
       "      <td>0</td>\n",
       "    </tr>\n",
       "    <tr>\n",
       "      <th>4</th>\n",
       "      <td>Nah I don't think he goes to usf, he lives aro...</td>\n",
       "      <td>0</td>\n",
       "    </tr>\n",
       "  </tbody>\n",
       "</table>\n",
       "</div>"
      ],
      "text/plain": [
       "                                                text  target\n",
       "0  Go until jurong point, crazy.. Available only ...       0\n",
       "1                      Ok lar... Joking wif u oni...       0\n",
       "2  Free entry in 2 a wkly comp to win FA Cup fina...       1\n",
       "3  U dun say so early hor... U c already then say...       0\n",
       "4  Nah I don't think he goes to usf, he lives aro...       0"
      ]
     },
     "execution_count": 1,
     "metadata": {},
     "output_type": "execute_result"
    }
   ],
   "source": [
    "import pandas as pd\n",
    "import numpy as np\n",
    "\n",
    "spam_data = pd.read_csv('spam.csv')\n",
    "spam_data['target'] = np.where(spam_data['target'] == 'spam', 1, 0)\n",
    "spam_data.head()"
   ]
  },
  {
   "cell_type": "markdown",
   "metadata": {},
   "source": [
    "How many messages are in the .csv file?"
   ]
  },
  {
   "cell_type": "code",
   "execution_count": 2,
   "metadata": {},
   "outputs": [
    {
     "name": "stdout",
     "output_type": "stream",
     "text": [
      "There are 5572 messages in the file.\n"
     ]
    }
   ],
   "source": [
    "print('There are {} messages in the file.'.format(len(spam_data)))"
   ]
  },
  {
   "cell_type": "markdown",
   "metadata": {},
   "source": [
    "How many messages from the .csv file are spam?"
   ]
  },
  {
   "cell_type": "code",
   "execution_count": 3,
   "metadata": {},
   "outputs": [
    {
     "name": "stdout",
     "output_type": "stream",
     "text": [
      "The 13.41% of the messages are spam.\n"
     ]
    }
   ],
   "source": [
    "print('The {:.2f}% of the messages are spam.'.format(spam_data.target.sum() / len(spam_data) * 100))"
   ]
  },
  {
   "cell_type": "markdown",
   "metadata": {},
   "source": [
    "# 3. COMPUTING FEATURES"
   ]
  },
  {
   "cell_type": "markdown",
   "metadata": {},
   "source": [
    "In this section, we are going to compute features from the messages that we are going to use to train and test the models. We are going to check also if we get different values of these features for messages that are spam from those that are not, this will tell us if they are good at predicting the target value.\n",
    "\n",
    "Length of each message:"
   ]
  },
  {
   "cell_type": "code",
   "execution_count": 4,
   "metadata": {},
   "outputs": [
    {
     "name": "stdout",
     "output_type": "stream",
     "text": [
      "The mean length of the messages that are spam is 138.87 whereas of the messages that are not spam is 71.02.\n"
     ]
    }
   ],
   "source": [
    "pd.options.mode.chained_assignment = None  # default='warn'\n",
    "\n",
    "spam_data['length'] = spam_data.text.str.len()\n",
    "\n",
    "print('The mean length of the messages that are spam is {:.2f} whereas of the messages that are not spam is {:.2f}.'\n",
    "     .format(spam_data[spam_data.target == 1].length.mean(), spam_data[spam_data.target == 0].length.mean() ))"
   ]
  },
  {
   "cell_type": "markdown",
   "metadata": {},
   "source": [
    "The number of digits in each message:"
   ]
  },
  {
   "cell_type": "code",
   "execution_count": 5,
   "metadata": {},
   "outputs": [
    {
     "name": "stdout",
     "output_type": "stream",
     "text": [
      "The mean number of digits of the messages that are spam is 15.76 whereas of the messages that are not spam is 0.30.\n"
     ]
    }
   ],
   "source": [
    "spam_data['digits'] = spam_data.text.str.count(r'\\d')\n",
    "\n",
    "print('The mean number of digits of the messages that are spam is {:.2f} whereas of the messages that are not spam is {:.2f}.'\n",
    "     .format(spam_data[spam_data.target == 1].digits.mean(), spam_data[spam_data.target == 0].digits.mean() ))"
   ]
  },
  {
   "cell_type": "markdown",
   "metadata": {},
   "source": [
    "The number of non-word characters in each message:"
   ]
  },
  {
   "cell_type": "code",
   "execution_count": 6,
   "metadata": {},
   "outputs": [
    {
     "name": "stdout",
     "output_type": "stream",
     "text": [
      "The mean number of non-word characters of the messages that are spam is 29.04 whereas of the messages that are not spam is 17.29.\n"
     ]
    }
   ],
   "source": [
    "spam_data['non-word'] = spam_data.text.str.count(r'\\W') \n",
    "\n",
    "print('The mean number of non-word characters of the messages that are spam is {:.2f} whereas of the messages that are not spam is {:.2f}.'\n",
    "     .format(spam_data[spam_data.target == 1]['non-word'].mean(), spam_data[spam_data.target == 0]['non-word'].mean() )) "
   ]
  },
  {
   "cell_type": "code",
   "execution_count": 7,
   "metadata": {},
   "outputs": [
    {
     "data": {
      "text/html": [
       "<div>\n",
       "<style scoped>\n",
       "    .dataframe tbody tr th:only-of-type {\n",
       "        vertical-align: middle;\n",
       "    }\n",
       "\n",
       "    .dataframe tbody tr th {\n",
       "        vertical-align: top;\n",
       "    }\n",
       "\n",
       "    .dataframe thead th {\n",
       "        text-align: right;\n",
       "    }\n",
       "</style>\n",
       "<table border=\"1\" class=\"dataframe\">\n",
       "  <thead>\n",
       "    <tr style=\"text-align: right;\">\n",
       "      <th></th>\n",
       "      <th>text</th>\n",
       "      <th>target</th>\n",
       "      <th>length</th>\n",
       "      <th>digits</th>\n",
       "      <th>non-word</th>\n",
       "    </tr>\n",
       "  </thead>\n",
       "  <tbody>\n",
       "    <tr>\n",
       "      <th>0</th>\n",
       "      <td>Go until jurong point, crazy.. Available only ...</td>\n",
       "      <td>0</td>\n",
       "      <td>111</td>\n",
       "      <td>0</td>\n",
       "      <td>28</td>\n",
       "    </tr>\n",
       "    <tr>\n",
       "      <th>1</th>\n",
       "      <td>Ok lar... Joking wif u oni...</td>\n",
       "      <td>0</td>\n",
       "      <td>29</td>\n",
       "      <td>0</td>\n",
       "      <td>11</td>\n",
       "    </tr>\n",
       "    <tr>\n",
       "      <th>2</th>\n",
       "      <td>Free entry in 2 a wkly comp to win FA Cup fina...</td>\n",
       "      <td>1</td>\n",
       "      <td>155</td>\n",
       "      <td>25</td>\n",
       "      <td>33</td>\n",
       "    </tr>\n",
       "    <tr>\n",
       "      <th>3</th>\n",
       "      <td>U dun say so early hor... U c already then say...</td>\n",
       "      <td>0</td>\n",
       "      <td>49</td>\n",
       "      <td>0</td>\n",
       "      <td>16</td>\n",
       "    </tr>\n",
       "    <tr>\n",
       "      <th>4</th>\n",
       "      <td>Nah I don't think he goes to usf, he lives aro...</td>\n",
       "      <td>0</td>\n",
       "      <td>61</td>\n",
       "      <td>0</td>\n",
       "      <td>14</td>\n",
       "    </tr>\n",
       "  </tbody>\n",
       "</table>\n",
       "</div>"
      ],
      "text/plain": [
       "                                                text  target  length  digits  \\\n",
       "0  Go until jurong point, crazy.. Available only ...       0     111       0   \n",
       "1                      Ok lar... Joking wif u oni...       0      29       0   \n",
       "2  Free entry in 2 a wkly comp to win FA Cup fina...       1     155      25   \n",
       "3  U dun say so early hor... U c already then say...       0      49       0   \n",
       "4  Nah I don't think he goes to usf, he lives aro...       0      61       0   \n",
       "\n",
       "   non-word  \n",
       "0        28  \n",
       "1        11  \n",
       "2        33  \n",
       "3        16  \n",
       "4        14  "
      ]
     },
     "execution_count": 7,
     "metadata": {},
     "output_type": "execute_result"
    }
   ],
   "source": [
    "spam_data.head()"
   ]
  },
  {
   "cell_type": "markdown",
   "metadata": {},
   "source": [
    "We can see how **the values obtained for messages that are spam are significantly different from those that are not**, so they are good features to predict the target value.\n",
    "\n",
    "Next, we are going to **build a vocabulary** with the tokens that appear in all the messages from *spam_data* and transform these messages in a matrix that provide us with a *'bag-of-words'* stored in X, where **each row corresponds to a message and each column corresponds to a token in our vocabulary**, so of this way we know which tokens appear in each message."
   ]
  },
  {
   "cell_type": "code",
   "execution_count": 8,
   "metadata": {},
   "outputs": [
    {
     "name": "stdout",
     "output_type": "stream",
     "text": [
      "We have 19776 tokens in our vocabulary.\n"
     ]
    }
   ],
   "source": [
    "from sklearn.feature_extraction.text import CountVectorizer\n",
    "\n",
    "vect = CountVectorizer(min_df = 5, ngram_range = (2,5), analyzer = 'char_wb').fit(spam_data['text']) # vocabulary\n",
    "X = vect.transform(spam_data['text']) # bag-of-words\n",
    "print('We have {} tokens in our vocabulary.'.format(len(vect.get_feature_names())))"
   ]
  },
  {
   "cell_type": "markdown",
   "metadata": {},
   "source": [
    "We join the *bag-of-words* with the others features (length, digits, non-word) we have computed before:"
   ]
  },
  {
   "cell_type": "code",
   "execution_count": 9,
   "metadata": {},
   "outputs": [],
   "source": [
    "def add_feature(X, feature_to_add):\n",
    "    \"\"\"\n",
    "    Returns sparse feature matrix with added feature.\n",
    "    feature_to_add can also be a list of features.\n",
    "    \"\"\"\n",
    "    from scipy.sparse import csr_matrix, hstack\n",
    "    return hstack([X, csr_matrix(feature_to_add).T], 'csr')\n",
    "\n",
    "X = add_feature(X, [spam_data['length'],spam_data['digits'],spam_data['non-word']]) # features\n",
    "y = spam_data['target'] # target values"
   ]
  },
  {
   "cell_type": "markdown",
   "metadata": {},
   "source": [
    "# 4. TRAINING AND TESTING "
   ]
  },
  {
   "cell_type": "markdown",
   "metadata": {},
   "source": [
    "In this section, we are going to train and test different estimators to see which have a better performance. We will tune the parameters with a **GridSearchCV** and test the classifiers with the **ROC_AUC** score that can be interpreted as the probability that the classifier will assign a higher score to a randomly chosen positive example than to a randomly chosen negative example."
   ]
  },
  {
   "cell_type": "code",
   "execution_count": 10,
   "metadata": {},
   "outputs": [
    {
     "name": "stdout",
     "output_type": "stream",
     "text": [
      "Logistic Regressión score: 0.9936617706288813\n",
      "{'C': 0.1}\n",
      "Naive Bayes score: 0.9845817422543677\n",
      "{'alpha': 0.1}\n",
      "Linear_SVC score: 0.9909993189941502\n",
      "{'C': 0.1}\n"
     ]
    }
   ],
   "source": [
    "from sklearn.model_selection import GridSearchCV\n",
    "from sklearn.linear_model import LogisticRegression\n",
    "from sklearn import naive_bayes\n",
    "from sklearn import svm\n",
    "\n",
    "scores = []\n",
    "\n",
    "logreg = LogisticRegression(solver = 'lbfgs', max_iter = 1000)\n",
    "param_grid = dict(C = [0.1, 1, 10, 100])\n",
    "grid_1 = GridSearchCV(logreg, param_grid, cv = 10, scoring = 'roc_auc')\n",
    "grid_1.fit(X, y)\n",
    "scores.append(grid_1.best_score_)\n",
    "print('Logistic Regressión score: {}'.format(grid_1.best_score_))\n",
    "print(grid_1.best_params_)\n",
    "\n",
    "\n",
    "nb = naive_bayes.MultinomialNB()\n",
    "param_grid = dict(alpha = [0.1, 1, 10, 100])\n",
    "grid_2 = GridSearchCV(nb, param_grid, cv = 10, scoring = 'roc_auc')\n",
    "grid_2.fit(X, y)\n",
    "scores.append(grid_2.best_score_)\n",
    "print('Naive Bayes score: {}'.format(grid_2.best_score_))\n",
    "print(grid_2.best_params_)\n",
    "\n",
    "svc = svm.SVC(kernel = 'linear')\n",
    "param_grid = dict(C = [0.1, 1, 10, 100])\n",
    "grid_3 = GridSearchCV(svc, param_grid, cv = 10, scoring = 'roc_auc')\n",
    "grid_3.fit(X, y)\n",
    "scores.append(grid_3.best_score_)\n",
    "print('Linear_SVC score: {}'.format(grid_3.best_score_))\n",
    "print(grid_3.best_params_)"
   ]
  },
  {
   "cell_type": "markdown",
   "metadata": {},
   "source": [
    "Additionally, we are going to compute the execution time for each estimator. We do 10 simulations for each estimator to get the mean of all of them:"
   ]
  },
  {
   "cell_type": "code",
   "execution_count": 11,
   "metadata": {},
   "outputs": [],
   "source": [
    "import time\n",
    "from sklearn.model_selection import train_test_split\n",
    "from sklearn.metrics import roc_auc_score\n",
    "\n",
    "X_train, X_test, y_train, y_test = train_test_split(X, y, random_state=0)\n",
    "\n",
    "grids = [grid_1, grid_2, grid_3]\n",
    "times = []\n",
    "for estimator in grids:\n",
    "    est_t = []\n",
    "    for attempt in range(10): # we do 10 simulations for each estimator\n",
    "        start = time.time()\n",
    "        prediction = estimator.predict(X_test)\n",
    "        end = time.time()\n",
    "        est_t.append(end-start)\n",
    "    times.append(np.asarray(est_t).mean())"
   ]
  },
  {
   "cell_type": "markdown",
   "metadata": {},
   "source": [
    "In order to see graphically the performance of each classifier, we will do a scatter plot. In the x-axis we have the score and in the y-axis the execution time:"
   ]
  },
  {
   "cell_type": "code",
   "execution_count": 12,
   "metadata": {},
   "outputs": [
    {
     "data": {
      "image/png": "[encoded data removed]",
      "text/plain": [
       "<Figure size 576x576 with 1 Axes>"
      ]
     },
     "metadata": {},
     "output_type": "display_data"
    }
   ],
   "source": [
    "import matplotlib.pyplot as plt\n",
    "import seaborn as sns\n",
    "%matplotlib inline\n",
    "\n",
    "l_estim = ['Logistic Regression','Naive bayes', 'Linear SVC']\n",
    "df_est = pd.DataFrame({'Estimator': l_estim, 'Score': scores, 'Execution time [s]': times})\n",
    "\n",
    "sns.set_style('darkgrid')\n",
    "plt.figure(figsize=(8,8))\n",
    "g = sns.scatterplot(data = df_est, y = 'Execution time [s]', x = 'Score', s = 200, hue = 'Estimator')\n",
    "plt.title(\"Estimator's Perfomance\", fontsize = 14)\n",
    "plt.show()"
   ]
  },
  {
   "cell_type": "markdown",
   "metadata": {},
   "source": [
    "# 5. CONCLUSIONS"
   ]
  },
  {
   "cell_type": "markdown",
   "metadata": {},
   "source": [
    "We see how the score from the Logistic Regression and the Linear SVC it's close to 1 in both cases but for the Logistic Regression is a bit higher and the execution time is faster, so **we choose the Logistic Regression as the best model with the following parameters**:"
   ]
  },
  {
   "cell_type": "code",
   "execution_count": 13,
   "metadata": {},
   "outputs": [
    {
     "name": "stdout",
     "output_type": "stream",
     "text": [
      "Best parameters: {'C': 0.1}\n"
     ]
    }
   ],
   "source": [
    "print('Best parameters: {}'.format(grid_1.best_params_))"
   ]
  },
  {
   "cell_type": "markdown",
   "metadata": {},
   "source": [
    "We have been able to predict if a message is spam with a very high success rate:"
   ]
  },
  {
   "cell_type": "code",
   "execution_count": 16,
   "metadata": {},
   "outputs": [
    {
     "name": "stdout",
     "output_type": "stream",
     "text": [
      "The succes rate is 99.07%\n"
     ]
    }
   ],
   "source": [
    "logreg = LogisticRegression(C = 0.1, solver = 'lbfgs', max_iter = 1000).fit(X_train, y_train)\n",
    "print('The succes rate is {:.2f}%'.format(logreg.score(X_test, y_test)*100))"
   ]
  }
 ],
 "metadata": {
  "kernelspec": {
   "display_name": "Python 3",
   "language": "python",
   "name": "python3"
  },
  "language_info": {
   "codemirror_mode": {
    "name": "ipython",
    "version": 3
   },
   "file_extension": ".py",
   "mimetype": "text/x-python",
   "name": "python",
   "nbconvert_exporter": "python",
   "pygments_lexer": "ipython3",
   "version": "3.7.3"
  }
 },
 "nbformat": 4,
 "nbformat_minor": 4
}
